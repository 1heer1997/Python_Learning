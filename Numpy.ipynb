{
 "cells": [
  {
   "cell_type": "markdown",
   "id": "4625a48a",
   "metadata": {},
   "source": [
    "# Numpy\n",
    "- Numpy is a general purpose array-processing package. It provides a high-performance multidimensional array object and tools for working with these arrays.It is the fundamental package for scientific computing with python.\n",
    "\n",
    "# What is an array\n",
    "- An array is a data structure that stores values of same data type. In python, this is the main difference between arrays and lists. While python lists can contain values corresponding to different data types, arrays in python can only contain values corresponding to same data types."
   ]
  },
  {
   "cell_type": "code",
   "execution_count": 1,
   "id": "c0b724b2",
   "metadata": {},
   "outputs": [
    {
     "name": "stdout",
     "output_type": "stream",
     "text": [
      "Requirement already satisfied: numpy in c:\\users\\heer\\anaconda3\\lib\\site-packages (1.21.5)\n",
      "Note: you may need to restart the kernel to use updated packages.\n"
     ]
    }
   ],
   "source": [
    "pip install numpy"
   ]
  },
  {
   "cell_type": "code",
   "execution_count": 2,
   "id": "5092fb6b",
   "metadata": {},
   "outputs": [],
   "source": [
    "## Initially lets import numpy as a library\n",
    "\n",
    "import numpy as np"
   ]
  },
  {
   "cell_type": "code",
   "execution_count": 3,
   "id": "affec46e",
   "metadata": {},
   "outputs": [],
   "source": [
    "my_list = [1,2,3,4,5]\n",
    "\n",
    "arr = np.array(my_list) #one-dimensioned array"
   ]
  },
  {
   "cell_type": "code",
   "execution_count": 4,
   "id": "63604d96",
   "metadata": {},
   "outputs": [
    {
     "data": {
      "text/plain": [
       "numpy.ndarray"
      ]
     },
     "execution_count": 4,
     "metadata": {},
     "output_type": "execute_result"
    }
   ],
   "source": [
    "type(arr)"
   ]
  },
  {
   "cell_type": "code",
   "execution_count": 5,
   "id": "e9dbecde",
   "metadata": {},
   "outputs": [
    {
     "data": {
      "text/plain": [
       "array([1, 2, 3, 4, 5])"
      ]
     },
     "execution_count": 5,
     "metadata": {},
     "output_type": "execute_result"
    }
   ],
   "source": [
    "arr"
   ]
  },
  {
   "cell_type": "code",
   "execution_count": 6,
   "id": "08263701",
   "metadata": {},
   "outputs": [
    {
     "data": {
      "text/plain": [
       "(5,)"
      ]
     },
     "execution_count": 6,
     "metadata": {},
     "output_type": "execute_result"
    }
   ],
   "source": [
    "arr.shape # shape helps to identify how many no of rows and columns do we have\n",
    "\n",
    "# if it is a one-dimensioned array then basically it will just say how many no of elements in array it is"
   ]
  },
  {
   "cell_type": "code",
   "execution_count": 19,
   "id": "afc633cc",
   "metadata": {},
   "outputs": [],
   "source": [
    "## multi-dimensioned array\n",
    "\n",
    "my_list1 = [1,2,3,4,5]\n",
    "my_list2 = [2,3,4,5,6]\n",
    "my_list3 = [9,7,6,5,4]\n",
    "\n",
    "arr1 = np.array([my_list1,my_list2,my_list3]) #in twodimensioned array we have 2 [[]] open and closed brackets"
   ]
  },
  {
   "cell_type": "code",
   "execution_count": 20,
   "id": "bb3ea0dc",
   "metadata": {},
   "outputs": [
    {
     "data": {
      "text/plain": [
       "array([[1, 2, 3, 4, 5],\n",
       "       [2, 3, 4, 5, 6],\n",
       "       [9, 7, 6, 5, 4]])"
      ]
     },
     "execution_count": 20,
     "metadata": {},
     "output_type": "execute_result"
    }
   ],
   "source": [
    "arr1"
   ]
  },
  {
   "cell_type": "code",
   "execution_count": 9,
   "id": "e2d5af21",
   "metadata": {},
   "outputs": [
    {
     "data": {
      "text/plain": [
       "(3, 5)"
      ]
     },
     "execution_count": 9,
     "metadata": {},
     "output_type": "execute_result"
    }
   ],
   "source": [
    "arr1.shape"
   ]
  },
  {
   "cell_type": "code",
   "execution_count": 10,
   "id": "cf85dbf3",
   "metadata": {},
   "outputs": [
    {
     "data": {
      "text/plain": [
       "array([[1, 2, 3],\n",
       "       [4, 5, 2],\n",
       "       [3, 4, 5],\n",
       "       [6, 9, 7],\n",
       "       [6, 5, 4]])"
      ]
     },
     "execution_count": 10,
     "metadata": {},
     "output_type": "execute_result"
    }
   ],
   "source": [
    "arr1.reshape(5,3) #change the no of rows and columns"
   ]
  },
  {
   "cell_type": "code",
   "execution_count": 11,
   "id": "6fb14aad",
   "metadata": {},
   "outputs": [
    {
     "ename": "ValueError",
     "evalue": "cannot reshape array of size 15 into shape (5,4)",
     "output_type": "error",
     "traceback": [
      "\u001b[1;31m---------------------------------------------------------------------------\u001b[0m",
      "\u001b[1;31mValueError\u001b[0m                                Traceback (most recent call last)",
      "\u001b[1;32m~\\AppData\\Local\\Temp\\ipykernel_26648\\2274454191.py\u001b[0m in \u001b[0;36m<module>\u001b[1;34m\u001b[0m\n\u001b[1;32m----> 1\u001b[1;33m \u001b[0marr1\u001b[0m\u001b[1;33m.\u001b[0m\u001b[0mreshape\u001b[0m\u001b[1;33m(\u001b[0m\u001b[1;36m5\u001b[0m\u001b[1;33m,\u001b[0m\u001b[1;36m4\u001b[0m\u001b[1;33m)\u001b[0m\u001b[1;33m\u001b[0m\u001b[1;33m\u001b[0m\u001b[0m\n\u001b[0m",
      "\u001b[1;31mValueError\u001b[0m: cannot reshape array of size 15 into shape (5,4)"
     ]
    }
   ],
   "source": [
    "arr1.reshape(5,4) # not possible as total no of elements should be 15(3 * 5 = 15)"
   ]
  },
  {
   "cell_type": "markdown",
   "id": "4c126857",
   "metadata": {},
   "source": [
    "# Indexing"
   ]
  },
  {
   "cell_type": "code",
   "execution_count": 22,
   "id": "9524842c",
   "metadata": {},
   "outputs": [],
   "source": [
    "arr2 = np.array([1,2,3,4,5,6,7,8,9])"
   ]
  },
  {
   "cell_type": "code",
   "execution_count": 23,
   "id": "ef90b500",
   "metadata": {},
   "outputs": [
    {
     "data": {
      "text/plain": [
       "4"
      ]
     },
     "execution_count": 23,
     "metadata": {},
     "output_type": "execute_result"
    }
   ],
   "source": [
    "arr2[3]"
   ]
  },
  {
   "cell_type": "code",
   "execution_count": 24,
   "id": "52bc3536",
   "metadata": {},
   "outputs": [
    {
     "data": {
      "text/plain": [
       "array([1, 2, 3, 4, 5, 6, 7, 8, 9])"
      ]
     },
     "execution_count": 24,
     "metadata": {},
     "output_type": "execute_result"
    }
   ],
   "source": [
    "arr2"
   ]
  },
  {
   "cell_type": "code",
   "execution_count": 21,
   "id": "068d76df",
   "metadata": {},
   "outputs": [
    {
     "data": {
      "text/plain": [
       "array([[1, 2, 3, 4, 5],\n",
       "       [2, 3, 4, 5, 6],\n",
       "       [9, 7, 6, 5, 4]])"
      ]
     },
     "execution_count": 21,
     "metadata": {},
     "output_type": "execute_result"
    }
   ],
   "source": [
    "arr1 #row 1 is 0th index, row 2 1st index ..."
   ]
  },
  {
   "cell_type": "code",
   "execution_count": 25,
   "id": "678445b2",
   "metadata": {},
   "outputs": [
    {
     "data": {
      "text/plain": [
       "5"
      ]
     },
     "execution_count": 25,
     "metadata": {},
     "output_type": "execute_result"
    }
   ],
   "source": [
    "arr1[1,3] , 2nd row and 4th "
   ]
  },
  {
   "cell_type": "code",
   "execution_count": 26,
   "id": "22e22a09",
   "metadata": {},
   "outputs": [
    {
     "data": {
      "text/plain": [
       "array([[1, 2, 3, 4, 5],\n",
       "       [2, 3, 4, 5, 6],\n",
       "       [9, 7, 6, 5, 4]])"
      ]
     },
     "execution_count": 26,
     "metadata": {},
     "output_type": "execute_result"
    }
   ],
   "source": [
    "arr1[:,:] #take all the values from rows and clms"
   ]
  },
  {
   "cell_type": "code",
   "execution_count": 27,
   "id": "e8df81b0",
   "metadata": {},
   "outputs": [
    {
     "data": {
      "text/plain": [
       "array([[1, 2, 3, 4, 5],\n",
       "       [2, 3, 4, 5, 6]])"
      ]
     },
     "execution_count": 27,
     "metadata": {},
     "output_type": "execute_result"
    }
   ],
   "source": [
    "arr1[0:2,] # i want 0th index to n-1 = 1 index rows values"
   ]
  },
  {
   "cell_type": "code",
   "execution_count": 28,
   "id": "24e73fca",
   "metadata": {},
   "outputs": [
    {
     "data": {
      "text/plain": [
       "array([[1, 2],\n",
       "       [2, 3]])"
      ]
     },
     "execution_count": 28,
     "metadata": {},
     "output_type": "execute_result"
    }
   ],
   "source": [
    "arr1[0:2,0:2]"
   ]
  },
  {
   "cell_type": "code",
   "execution_count": 29,
   "id": "388e4575",
   "metadata": {},
   "outputs": [
    {
     "data": {
      "text/plain": [
       "array([[5, 6],\n",
       "       [5, 4]])"
      ]
     },
     "execution_count": 29,
     "metadata": {},
     "output_type": "execute_result"
    }
   ],
   "source": [
    "arr1[1:3,3:5] # or we can write like this also arr1[1:,3:]"
   ]
  },
  {
   "cell_type": "code",
   "execution_count": 30,
   "id": "450c8870",
   "metadata": {},
   "outputs": [],
   "source": [
    "arr3 = np.arange(0,10)"
   ]
  },
  {
   "cell_type": "code",
   "execution_count": 31,
   "id": "caba0dc2",
   "metadata": {},
   "outputs": [
    {
     "data": {
      "text/plain": [
       "array([0, 1, 2, 3, 4, 5, 6, 7, 8, 9])"
      ]
     },
     "execution_count": 31,
     "metadata": {},
     "output_type": "execute_result"
    }
   ],
   "source": [
    "arr3"
   ]
  },
  {
   "cell_type": "code",
   "execution_count": 36,
   "id": "5ec589ad",
   "metadata": {},
   "outputs": [
    {
     "data": {
      "text/plain": [
       "array([ 1.        ,  1.18367347,  1.36734694,  1.55102041,  1.73469388,\n",
       "        1.91836735,  2.10204082,  2.28571429,  2.46938776,  2.65306122,\n",
       "        2.83673469,  3.02040816,  3.20408163,  3.3877551 ,  3.57142857,\n",
       "        3.75510204,  3.93877551,  4.12244898,  4.30612245,  4.48979592,\n",
       "        4.67346939,  4.85714286,  5.04081633,  5.2244898 ,  5.40816327,\n",
       "        5.59183673,  5.7755102 ,  5.95918367,  6.14285714,  6.32653061,\n",
       "        6.51020408,  6.69387755,  6.87755102,  7.06122449,  7.24489796,\n",
       "        7.42857143,  7.6122449 ,  7.79591837,  7.97959184,  8.16326531,\n",
       "        8.34693878,  8.53061224,  8.71428571,  8.89795918,  9.08163265,\n",
       "        9.26530612,  9.44897959,  9.63265306,  9.81632653, 10.        ])"
      ]
     },
     "execution_count": 36,
     "metadata": {},
     "output_type": "execute_result"
    }
   ],
   "source": [
    "np.linspace(1,10,50) # between 1 and 10 i need 50 points"
   ]
  },
  {
   "cell_type": "code",
   "execution_count": 32,
   "id": "f89d1dcc",
   "metadata": {},
   "outputs": [
    {
     "data": {
      "text/plain": [
       "array([  0,   1,   2, 100, 100, 100, 100, 100, 100, 100])"
      ]
     },
     "execution_count": 32,
     "metadata": {},
     "output_type": "execute_result"
    }
   ],
   "source": [
    "#copy function and broadcasting\n",
    "\n",
    "arr3[3:] = 100\n",
    "arr3"
   ]
  },
  {
   "cell_type": "code",
   "execution_count": 34,
   "id": "63937f86",
   "metadata": {},
   "outputs": [],
   "source": [
    "arr4 = np.arange(0,10,step=3) #gap of 3 "
   ]
  },
  {
   "cell_type": "code",
   "execution_count": 35,
   "id": "c7f69876",
   "metadata": {},
   "outputs": [
    {
     "data": {
      "text/plain": [
       "array([0, 3, 6, 9])"
      ]
     },
     "execution_count": 35,
     "metadata": {},
     "output_type": "execute_result"
    }
   ],
   "source": [
    "arr4 "
   ]
  },
  {
   "cell_type": "code",
   "execution_count": 37,
   "id": "f530b58c",
   "metadata": {},
   "outputs": [],
   "source": [
    "arr5 = arr3"
   ]
  },
  {
   "cell_type": "code",
   "execution_count": 38,
   "id": "e4c8b0b8",
   "metadata": {},
   "outputs": [
    {
     "name": "stdout",
     "output_type": "stream",
     "text": [
      "[  0   1   2 500 500 500 500 500 500 500]\n"
     ]
    }
   ],
   "source": [
    "arr5[3:] = 500\n",
    "print(arr5)"
   ]
  },
  {
   "cell_type": "code",
   "execution_count": 39,
   "id": "f6c58632",
   "metadata": {},
   "outputs": [
    {
     "data": {
      "text/plain": [
       "array([  0,   1,   2, 500, 500, 500, 500, 500, 500, 500])"
      ]
     },
     "execution_count": 39,
     "metadata": {},
     "output_type": "execute_result"
    }
   ],
   "source": [
    "arr3 # arr3 has been reassigned by arr5"
   ]
  },
  {
   "cell_type": "code",
   "execution_count": 40,
   "id": "e8fabd73",
   "metadata": {},
   "outputs": [],
   "source": [
    "arr5 = arr3.copy()"
   ]
  },
  {
   "cell_type": "code",
   "execution_count": 41,
   "id": "888aedbc",
   "metadata": {},
   "outputs": [
    {
     "name": "stdout",
     "output_type": "stream",
     "text": [
      "[  0   1   2 500 500 500 500 500 500 500]\n",
      "[   0    1    2 1000 1000 1000 1000 1000 1000 1000]\n"
     ]
    }
   ],
   "source": [
    "# copy - created another memory space to store value of arr3\n",
    "\n",
    "print(arr3)\n",
    "arr5[3:] = 1000\n",
    "print(arr5) "
   ]
  },
  {
   "cell_type": "code",
   "execution_count": 47,
   "id": "e5f1724b",
   "metadata": {},
   "outputs": [
    {
     "data": {
      "text/plain": [
       "array([0, 1])"
      ]
     },
     "execution_count": 47,
     "metadata": {},
     "output_type": "execute_result"
    }
   ],
   "source": [
    "## Some consitions very useful in explonatory data analysis\n",
    "\n",
    "val = 2\n",
    "arr3[arr3 < val]"
   ]
  },
  {
   "cell_type": "code",
   "execution_count": 48,
   "id": "ac1b8093",
   "metadata": {},
   "outputs": [
    {
     "data": {
      "text/plain": [
       "array([[0, 1],\n",
       "       [2, 3],\n",
       "       [4, 5],\n",
       "       [6, 7],\n",
       "       [8, 9]])"
      ]
     },
     "execution_count": 48,
     "metadata": {},
     "output_type": "execute_result"
    }
   ],
   "source": [
    "## Create arrays and reshape\n",
    "\n",
    "np.arange(0,10).reshape(5,2)"
   ]
  },
  {
   "cell_type": "code",
   "execution_count": 49,
   "id": "2bb69d3e",
   "metadata": {},
   "outputs": [],
   "source": [
    "arr6 = np.arange(0,10).reshape(2,5)"
   ]
  },
  {
   "cell_type": "code",
   "execution_count": 50,
   "id": "2280bf83",
   "metadata": {},
   "outputs": [],
   "source": [
    "arr7 = np.arange(0,10).reshape(2,5)"
   ]
  },
  {
   "cell_type": "code",
   "execution_count": 51,
   "id": "6ca5a936",
   "metadata": {},
   "outputs": [
    {
     "data": {
      "text/plain": [
       "array([[ 0,  1,  4,  9, 16],\n",
       "       [25, 36, 49, 64, 81]])"
      ]
     },
     "execution_count": 51,
     "metadata": {},
     "output_type": "execute_result"
    }
   ],
   "source": [
    "arr6 * arr7"
   ]
  },
  {
   "cell_type": "code",
   "execution_count": 52,
   "id": "ace813a2",
   "metadata": {},
   "outputs": [
    {
     "data": {
      "text/plain": [
       "array([1., 1., 1., 1.])"
      ]
     },
     "execution_count": 52,
     "metadata": {},
     "output_type": "execute_result"
    }
   ],
   "source": [
    "## np.ones - creates an array which basically replace all elements by 1\n",
    "\n",
    "np.ones(4) #bydefault dtype is flot thatswhy here its coming as 1. instead of 1"
   ]
  },
  {
   "cell_type": "code",
   "execution_count": 53,
   "id": "d7902a91",
   "metadata": {},
   "outputs": [
    {
     "data": {
      "text/plain": [
       "array([1, 1, 1, 1])"
      ]
     },
     "execution_count": 53,
     "metadata": {},
     "output_type": "execute_result"
    }
   ],
   "source": [
    "np.ones(4,dtype=int)"
   ]
  },
  {
   "cell_type": "code",
   "execution_count": 54,
   "id": "62c45f8f",
   "metadata": {},
   "outputs": [
    {
     "data": {
      "text/plain": [
       "array([[1, 1, 1, 1, 1],\n",
       "       [1, 1, 1, 1, 1]])"
      ]
     },
     "execution_count": 54,
     "metadata": {},
     "output_type": "execute_result"
    }
   ],
   "source": [
    "np.ones((2,5), dtype=int)"
   ]
  },
  {
   "cell_type": "code",
   "execution_count": 55,
   "id": "906af4f5",
   "metadata": {},
   "outputs": [
    {
     "data": {
      "text/plain": [
       "array([[0.31556076, 0.35539807, 0.03476701],\n",
       "       [0.10483245, 0.03029695, 0.77366761],\n",
       "       [0.57469525, 0.28111549, 0.51627614]])"
      ]
     },
     "execution_count": 55,
     "metadata": {},
     "output_type": "execute_result"
    }
   ],
   "source": [
    "## random distribution\n",
    "\n",
    "np.random.rand(3,3) #based on uniform distribution"
   ]
  },
  {
   "cell_type": "code",
   "execution_count": 56,
   "id": "b0fd03a4",
   "metadata": {},
   "outputs": [],
   "source": [
    "arr_ex = np.random.randn(4,4) #select random variable based on standard normal distribution"
   ]
  },
  {
   "cell_type": "code",
   "execution_count": 57,
   "id": "1f4604eb",
   "metadata": {},
   "outputs": [
    {
     "data": {
      "text/plain": [
       "array([[ 2.0432875 ,  0.41418816, -0.02158548,  0.55519502],\n",
       "       [-0.55475918, -0.23019673,  0.38309347,  0.51796196],\n",
       "       [ 1.90235901,  0.88402966, -0.2383721 ,  0.57795773],\n",
       "       [ 1.09290358,  0.41859059,  0.92726552,  0.2646122 ]])"
      ]
     },
     "execution_count": 57,
     "metadata": {},
     "output_type": "execute_result"
    }
   ],
   "source": [
    "arr_ex"
   ]
  },
  {
   "cell_type": "code",
   "execution_count": 59,
   "id": "3823b847",
   "metadata": {},
   "outputs": [
    {
     "data": {
      "text/plain": [
       "array([[49, 41],\n",
       "       [26, 50],\n",
       "       [41, 14],\n",
       "       [87, 69]])"
      ]
     },
     "execution_count": 59,
     "metadata": {},
     "output_type": "execute_result"
    }
   ],
   "source": [
    "np.random.randint(0,100,8).reshape(4,2) #between 0 to 100 range select 8 numbers"
   ]
  },
  {
   "cell_type": "code",
   "execution_count": 60,
   "id": "467fe5cf",
   "metadata": {},
   "outputs": [
    {
     "data": {
      "text/plain": [
       "array([[0.8963837 , 0.78111075, 0.47686157, 0.93261199, 0.76682847]])"
      ]
     },
     "execution_count": 60,
     "metadata": {},
     "output_type": "execute_result"
    }
   ],
   "source": [
    "np.random.random_sample((1,5)) #return random floats in the half-open interval[0.0, 1.0]"
   ]
  },
  {
   "cell_type": "code",
   "execution_count": null,
   "id": "fa1cd876",
   "metadata": {},
   "outputs": [],
   "source": []
  }
 ],
 "metadata": {
  "kernelspec": {
   "display_name": "Python 3 (ipykernel)",
   "language": "python",
   "name": "python3"
  },
  "language_info": {
   "codemirror_mode": {
    "name": "ipython",
    "version": 3
   },
   "file_extension": ".py",
   "mimetype": "text/x-python",
   "name": "python",
   "nbconvert_exporter": "python",
   "pygments_lexer": "ipython3",
   "version": "3.9.13"
  }
 },
 "nbformat": 4,
 "nbformat_minor": 5
}
