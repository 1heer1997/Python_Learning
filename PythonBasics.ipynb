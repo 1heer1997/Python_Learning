{
 "cells": [
  {
   "cell_type": "code",
   "execution_count": 3,
   "id": "050d0938",
   "metadata": {},
   "outputs": [
    {
     "data": {
      "text/plain": [
       "'\\n\\nmultiline comments\\nThis is for beginer \\n\\n'"
      ]
     },
     "execution_count": 3,
     "metadata": {},
     "output_type": "execute_result"
    }
   ],
   "source": [
    "'''\n",
    "\n",
    "multiline comments\n",
    "This is for beginer \n",
    "\n",
    "'''\n",
    "\n",
    "# single line comments\n",
    "# esc + a - add cell"
   ]
  },
  {
   "cell_type": "markdown",
   "id": "f233d846",
   "metadata": {},
   "source": [
    "# Various Datatypes in Python\n",
    "\n",
    "## Numbers\n"
   ]
  },
  {
   "cell_type": "code",
   "execution_count": 4,
   "id": "21a86bef",
   "metadata": {},
   "outputs": [
    {
     "data": {
      "text/plain": [
       "3"
      ]
     },
     "execution_count": 4,
     "metadata": {},
     "output_type": "execute_result"
    }
   ],
   "source": [
    "2 + 1"
   ]
  },
  {
   "cell_type": "code",
   "execution_count": 5,
   "id": "dfdb3a71",
   "metadata": {},
   "outputs": [
    {
     "data": {
      "text/plain": [
       "4"
      ]
     },
     "execution_count": 5,
     "metadata": {},
     "output_type": "execute_result"
    }
   ],
   "source": [
    "2 *2"
   ]
  },
  {
   "cell_type": "code",
   "execution_count": 6,
   "id": "faba2144",
   "metadata": {},
   "outputs": [
    {
     "data": {
      "text/plain": [
       "0.5"
      ]
     },
     "execution_count": 6,
     "metadata": {},
     "output_type": "execute_result"
    }
   ],
   "source": [
    "2 / 4"
   ]
  },
  {
   "cell_type": "code",
   "execution_count": 7,
   "id": "fce56690",
   "metadata": {},
   "outputs": [
    {
     "data": {
      "text/plain": [
       "16"
      ]
     },
     "execution_count": 7,
     "metadata": {},
     "output_type": "execute_result"
    }
   ],
   "source": [
    "2 ** 4"
   ]
  },
  {
   "cell_type": "code",
   "execution_count": 8,
   "id": "7a32357c",
   "metadata": {},
   "outputs": [
    {
     "data": {
      "text/plain": [
       "1"
      ]
     },
     "execution_count": 8,
     "metadata": {},
     "output_type": "execute_result"
    }
   ],
   "source": [
    "5 % 4"
   ]
  },
  {
   "cell_type": "code",
   "execution_count": 9,
   "id": "2ec83ba5",
   "metadata": {},
   "outputs": [
    {
     "data": {
      "text/plain": [
       "'HeerHeerHeerHeerHeerHeerHeerHeerHeerHeer'"
      ]
     },
     "execution_count": 9,
     "metadata": {},
     "output_type": "execute_result"
    }
   ],
   "source": [
    "10 * 'Heer'"
   ]
  },
  {
   "cell_type": "code",
   "execution_count": null,
   "id": "52bc8404",
   "metadata": {},
   "outputs": [],
   "source": [
    "## check the data types"
   ]
  },
  {
   "cell_type": "code",
   "execution_count": 10,
   "id": "9c976da6",
   "metadata": {},
   "outputs": [
    {
     "data": {
      "text/plain": [
       "int"
      ]
     },
     "execution_count": 10,
     "metadata": {},
     "output_type": "execute_result"
    }
   ],
   "source": [
    "type(1)"
   ]
  },
  {
   "cell_type": "code",
   "execution_count": 11,
   "id": "c3d21307",
   "metadata": {},
   "outputs": [
    {
     "data": {
      "text/plain": [
       "float"
      ]
     },
     "execution_count": 11,
     "metadata": {},
     "output_type": "execute_result"
    }
   ],
   "source": [
    "type(10.0)"
   ]
  },
  {
   "cell_type": "code",
   "execution_count": 12,
   "id": "461772ba",
   "metadata": {},
   "outputs": [
    {
     "data": {
      "text/plain": [
       "str"
      ]
     },
     "execution_count": 12,
     "metadata": {},
     "output_type": "execute_result"
    }
   ],
   "source": [
    "type('Hello')"
   ]
  },
  {
   "cell_type": "code",
   "execution_count": 13,
   "id": "9ce8b468",
   "metadata": {},
   "outputs": [
    {
     "data": {
      "text/plain": [
       "bool"
      ]
     },
     "execution_count": 13,
     "metadata": {},
     "output_type": "execute_result"
    }
   ],
   "source": [
    "type(True)"
   ]
  },
  {
   "cell_type": "markdown",
   "id": "d8610f4f",
   "metadata": {},
   "source": [
    "# # Strings"
   ]
  },
  {
   "cell_type": "code",
   "execution_count": 14,
   "id": "5c2d2404",
   "metadata": {},
   "outputs": [
    {
     "data": {
      "text/plain": [
       "'Hello'"
      ]
     },
     "execution_count": 14,
     "metadata": {},
     "output_type": "execute_result"
    }
   ],
   "source": [
    "\"Hello\""
   ]
  },
  {
   "cell_type": "code",
   "execution_count": 15,
   "id": "15e12f9c",
   "metadata": {},
   "outputs": [
    {
     "data": {
      "text/plain": [
       "'Heer Vankawala'"
      ]
     },
     "execution_count": 15,
     "metadata": {},
     "output_type": "execute_result"
    }
   ],
   "source": [
    "'Heer Vankawala'"
   ]
  },
  {
   "cell_type": "code",
   "execution_count": 16,
   "id": "a56e817e",
   "metadata": {},
   "outputs": [
    {
     "data": {
      "text/plain": [
       "str"
      ]
     },
     "execution_count": 16,
     "metadata": {},
     "output_type": "execute_result"
    }
   ],
   "source": [
    "type('Heer Vankawala')"
   ]
  },
  {
   "cell_type": "markdown",
   "id": "8ed1cfd4",
   "metadata": {},
   "source": [
    "# # Variable Assignment"
   ]
  },
  {
   "cell_type": "code",
   "execution_count": 18,
   "id": "e468e5ad",
   "metadata": {},
   "outputs": [],
   "source": [
    "#Syntax\n",
    "# var_name = values\n",
    "\n",
    "a=10"
   ]
  },
  {
   "cell_type": "code",
   "execution_count": 19,
   "id": "a9060bb1",
   "metadata": {},
   "outputs": [
    {
     "data": {
      "text/plain": [
       "int"
      ]
     },
     "execution_count": 19,
     "metadata": {},
     "output_type": "execute_result"
    }
   ],
   "source": [
    "type(a)"
   ]
  },
  {
   "cell_type": "code",
   "execution_count": 20,
   "id": "24b9cd7e",
   "metadata": {},
   "outputs": [],
   "source": [
    "a = 'Heer'"
   ]
  },
  {
   "cell_type": "code",
   "execution_count": 21,
   "id": "cb58e086",
   "metadata": {},
   "outputs": [
    {
     "data": {
      "text/plain": [
       "str"
      ]
     },
     "execution_count": 21,
     "metadata": {},
     "output_type": "execute_result"
    }
   ],
   "source": [
    "type(a)"
   ]
  },
  {
   "cell_type": "code",
   "execution_count": 22,
   "id": "1797c384",
   "metadata": {},
   "outputs": [],
   "source": [
    "## Mathematical operations with variable assignment\n",
    "\n",
    "a = 10\n",
    "b = 20"
   ]
  },
  {
   "cell_type": "code",
   "execution_count": 25,
   "id": "4c90879b",
   "metadata": {},
   "outputs": [
    {
     "name": "stdout",
     "output_type": "stream",
     "text": [
      "200\n",
      "0.5\n",
      "10\n",
      "200.5\n"
     ]
    }
   ],
   "source": [
    "print(a * b)\n",
    "print(a / b)\n",
    "print(a % b)\n",
    "print((a * b)+ (a / b)) # BODMAS Rules - brackets,off,division,multi,add,sub"
   ]
  },
  {
   "cell_type": "code",
   "execution_count": 26,
   "id": "645560b7",
   "metadata": {},
   "outputs": [
    {
     "name": "stdout",
     "output_type": "stream",
     "text": [
      "Hello\n"
     ]
    }
   ],
   "source": [
    "# Various ways of printing\n",
    "\n",
    "print(\"Hello\") # if you want to learn something regarding inbuilt function then before brackets just press shift + TAB"
   ]
  },
  {
   "cell_type": "code",
   "execution_count": 2,
   "id": "d61b9f6a",
   "metadata": {},
   "outputs": [],
   "source": [
    "first_name = 'Heer'\n",
    "Last_name = 'Vankawala'\n"
   ]
  },
  {
   "cell_type": "code",
   "execution_count": 28,
   "id": "c1fcabd2",
   "metadata": {},
   "outputs": [
    {
     "name": "stdout",
     "output_type": "stream",
     "text": [
      "My first name is Heer and last name is Vankawala\n"
     ]
    }
   ],
   "source": [
    "print(\"My first name is {} and last name is {}\".format(first_name,Last_name)) #ordering is very imp"
   ]
  },
  {
   "cell_type": "code",
   "execution_count": 29,
   "id": "d16f1ca4",
   "metadata": {},
   "outputs": [
    {
     "name": "stdout",
     "output_type": "stream",
     "text": [
      "My first name is Heer and last name is Vankawala\n"
     ]
    }
   ],
   "source": [
    "print(\"My first name is {first} and last name is {last}\".format(first=first_name,last=Last_name)) #in this we can change order also"
   ]
  },
  {
   "cell_type": "code",
   "execution_count": 30,
   "id": "8738b243",
   "metadata": {},
   "outputs": [
    {
     "name": "stdout",
     "output_type": "stream",
     "text": [
      "My first name is Heer and last name is Vankawala\n"
     ]
    }
   ],
   "source": [
    "print(\"My first name is {first} and last name is {last}\".format(last=Last_name,first=first_name))"
   ]
  },
  {
   "cell_type": "code",
   "execution_count": 3,
   "id": "8314e2f2",
   "metadata": {
    "scrolled": true
   },
   "outputs": [
    {
     "data": {
      "text/plain": [
       "4"
      ]
     },
     "execution_count": 3,
     "metadata": {},
     "output_type": "execute_result"
    }
   ],
   "source": [
    "len(first_name)"
   ]
  },
  {
   "cell_type": "code",
   "execution_count": 31,
   "id": "668afd39",
   "metadata": {},
   "outputs": [
    {
     "data": {
      "text/plain": [
       "4"
      ]
     },
     "execution_count": 31,
     "metadata": {},
     "output_type": "execute_result"
    }
   ],
   "source": [
    "len('Heer') #counting the char - giving length"
   ]
  },
  {
   "cell_type": "markdown",
   "id": "e7fa0f18",
   "metadata": {},
   "source": [
    "# # #  String In-built functions"
   ]
  },
  {
   "cell_type": "code",
   "execution_count": 32,
   "id": "b61a12bc",
   "metadata": {},
   "outputs": [],
   "source": [
    "str1 = \"Heer Vankawala\""
   ]
  },
  {
   "cell_type": "code",
   "execution_count": 33,
   "id": "80eee5d7",
   "metadata": {},
   "outputs": [
    {
     "name": "stdout",
     "output_type": "stream",
     "text": [
      "False\n",
      "False\n",
      "False\n",
      "True\n",
      "False\n",
      "False\n",
      "False\n",
      "False\n",
      "True\n"
     ]
    }
   ],
   "source": [
    "print(str1.isalnum()) # check if all chars are numbers or alphabets\n",
    "print(str1.isalpha()) # check if all char in string are alphabetic\n",
    "print(str1.isdigit()) # test if string contains digit\n",
    "print(str1.istitle()) # check if string contains title word(1st case in title-upper like Heer and Vankawala)\n",
    "print(str1.isupper()) # check if string contains upper case\n",
    "print(str1.islower()) # check if string contains lower case\n",
    "print(str1.isspace()) # test if string contains spaces\n",
    "print(str1.endswith('l')) # test if string endswith a l\n",
    "print(str1.startswith('H')) # test if string starts with a H"
   ]
  },
  {
   "cell_type": "markdown",
   "id": "7b05e569",
   "metadata": {},
   "source": [
    "# # Boolean and Logical Operators"
   ]
  },
  {
   "cell_type": "code",
   "execution_count": 34,
   "id": "54d89056",
   "metadata": {},
   "outputs": [
    {
     "data": {
      "text/plain": [
       "True"
      ]
     },
     "execution_count": 34,
     "metadata": {},
     "output_type": "execute_result"
    }
   ],
   "source": [
    "True and True"
   ]
  },
  {
   "cell_type": "code",
   "execution_count": 35,
   "id": "61052efa",
   "metadata": {},
   "outputs": [
    {
     "data": {
      "text/plain": [
       "False"
      ]
     },
     "execution_count": 35,
     "metadata": {},
     "output_type": "execute_result"
    }
   ],
   "source": [
    "True and False"
   ]
  },
  {
   "cell_type": "code",
   "execution_count": 36,
   "id": "e170f5e3",
   "metadata": {},
   "outputs": [
    {
     "data": {
      "text/plain": [
       "True"
      ]
     },
     "execution_count": 36,
     "metadata": {},
     "output_type": "execute_result"
    }
   ],
   "source": [
    "True or False"
   ]
  },
  {
   "cell_type": "code",
   "execution_count": 37,
   "id": "bed600e1",
   "metadata": {},
   "outputs": [
    {
     "data": {
      "text/plain": [
       "False"
      ]
     },
     "execution_count": 37,
     "metadata": {},
     "output_type": "execute_result"
    }
   ],
   "source": [
    "False or False"
   ]
  },
  {
   "cell_type": "code",
   "execution_count": 4,
   "id": "c1d6994c",
   "metadata": {},
   "outputs": [
    {
     "data": {
      "text/plain": [
       "bool"
      ]
     },
     "execution_count": 4,
     "metadata": {},
     "output_type": "execute_result"
    }
   ],
   "source": [
    "type(True)"
   ]
  },
  {
   "cell_type": "code",
   "execution_count": 12,
   "id": "2ad22880",
   "metadata": {},
   "outputs": [],
   "source": [
    "str_example = 'Hello World'\n",
    "my_str = 'Krish'\n"
   ]
  },
  {
   "cell_type": "code",
   "execution_count": 15,
   "id": "0ccb6d34",
   "metadata": {},
   "outputs": [
    {
     "name": "stdout",
     "output_type": "stream",
     "text": [
      "True\n"
     ]
    }
   ],
   "source": [
    "print(my_str.isalpha())"
   ]
  },
  {
   "cell_type": "code",
   "execution_count": 39,
   "id": "33d78972",
   "metadata": {},
   "outputs": [
    {
     "data": {
      "text/plain": [
       "True"
      ]
     },
     "execution_count": 39,
     "metadata": {},
     "output_type": "execute_result"
    }
   ],
   "source": [
    "my_str.isalpha() or str_example.isnum()"
   ]
  },
  {
   "cell_type": "markdown",
   "id": "2f4dd7a1",
   "metadata": {},
   "source": [
    "# Lists"
   ]
  },
  {
   "cell_type": "markdown",
   "id": "a8cee373",
   "metadata": {},
   "source": [
    "- A list is a data structure  in Python  that is mutable, or changable, ordered sequence of elements.Each Element or value that is inside of a list is called an item. Just as strings are defined as characters between qotes, lists are defined by having values between square brackets []."
   ]
  },
  {
   "cell_type": "code",
   "execution_count": 16,
   "id": "7fe9d6e0",
   "metadata": {},
   "outputs": [],
   "source": [
    "lst_example = [] # creating an empty list"
   ]
  },
  {
   "cell_type": "code",
   "execution_count": 42,
   "id": "0abab35c",
   "metadata": {},
   "outputs": [
    {
     "data": {
      "text/plain": [
       "list"
      ]
     },
     "execution_count": 42,
     "metadata": {},
     "output_type": "execute_result"
    }
   ],
   "source": [
    "type([])"
   ]
  },
  {
   "cell_type": "code",
   "execution_count": 43,
   "id": "2afe9c69",
   "metadata": {},
   "outputs": [],
   "source": [
    "lst = list() # another way of creating an empty list"
   ]
  },
  {
   "cell_type": "code",
   "execution_count": 44,
   "id": "4cafa0a5",
   "metadata": {},
   "outputs": [
    {
     "data": {
      "text/plain": [
       "list"
      ]
     },
     "execution_count": 44,
     "metadata": {},
     "output_type": "execute_result"
    }
   ],
   "source": [
    "type(lst)"
   ]
  },
  {
   "cell_type": "code",
   "execution_count": 17,
   "id": "29b56880",
   "metadata": {},
   "outputs": [],
   "source": [
    "lst1 = ['Maths', 'Chem', 200, 300, 301.1]"
   ]
  },
  {
   "cell_type": "code",
   "execution_count": 18,
   "id": "abfa13bd",
   "metadata": {},
   "outputs": [
    {
     "data": {
      "text/plain": [
       "5"
      ]
     },
     "execution_count": 18,
     "metadata": {},
     "output_type": "execute_result"
    }
   ],
   "source": [
    "len(lst1)"
   ]
  },
  {
   "cell_type": "code",
   "execution_count": 19,
   "id": "c7a21c08",
   "metadata": {},
   "outputs": [
    {
     "data": {
      "text/plain": [
       "list"
      ]
     },
     "execution_count": 19,
     "metadata": {},
     "output_type": "execute_result"
    }
   ],
   "source": [
    "type(lst1)"
   ]
  },
  {
   "cell_type": "markdown",
   "id": "8e80476d",
   "metadata": {},
   "source": [
    "# Append"
   ]
  },
  {
   "cell_type": "code",
   "execution_count": 49,
   "id": "fb3a522d",
   "metadata": {},
   "outputs": [],
   "source": [
    "# append is used to add elements in the list at last\n",
    "\n",
    "lst1.append(\"Heer\")\n"
   ]
  },
  {
   "cell_type": "code",
   "execution_count": 50,
   "id": "743db16a",
   "metadata": {},
   "outputs": [
    {
     "data": {
      "text/plain": [
       "['Maths', 'Chem', 200, 300, 301.1, 'Heer']"
      ]
     },
     "execution_count": 50,
     "metadata": {},
     "output_type": "execute_result"
    }
   ],
   "source": [
    "lst1"
   ]
  },
  {
   "cell_type": "code",
   "execution_count": 52,
   "id": "5437fd73",
   "metadata": {},
   "outputs": [
    {
     "data": {
      "text/plain": [
       "300"
      ]
     },
     "execution_count": 52,
     "metadata": {},
     "output_type": "execute_result"
    }
   ],
   "source": [
    "# Indexing in list\n",
    "\n",
    "lst1[0]\n",
    "lst1[3]"
   ]
  },
  {
   "cell_type": "code",
   "execution_count": 53,
   "id": "b82e9e80",
   "metadata": {},
   "outputs": [
    {
     "data": {
      "text/plain": [
       "['Maths', 'Chem', 200, 300, 301.1, 'Heer']"
      ]
     },
     "execution_count": 53,
     "metadata": {},
     "output_type": "execute_result"
    }
   ],
   "source": [
    "lst1[:] # print all elements"
   ]
  },
  {
   "cell_type": "code",
   "execution_count": 55,
   "id": "785c03ee",
   "metadata": {},
   "outputs": [
    {
     "data": {
      "text/plain": [
       "['Chem', 200, 300, 301.1, 'Heer']"
      ]
     },
     "execution_count": 55,
     "metadata": {},
     "output_type": "execute_result"
    }
   ],
   "source": [
    "lst1[1 :] #from chem to end of list"
   ]
  },
  {
   "cell_type": "code",
   "execution_count": 56,
   "id": "e0aa19ca",
   "metadata": {},
   "outputs": [
    {
     "data": {
      "text/plain": [
       "['Chem', 200, 300, 301.1]"
      ]
     },
     "execution_count": 56,
     "metadata": {},
     "output_type": "execute_result"
    }
   ],
   "source": [
    "lst1[1 :5] #end range will not include 5th value , heer will not come"
   ]
  },
  {
   "cell_type": "code",
   "execution_count": 59,
   "id": "61cda39a",
   "metadata": {},
   "outputs": [
    {
     "data": {
      "text/plain": [
       "['Maths',\n",
       " 'Chem',\n",
       " 200,\n",
       " 300,\n",
       " 301.1,\n",
       " 'Heer',\n",
       " ['John', 101],\n",
       " ['John', 101],\n",
       " ['John', 101]]"
      ]
     },
     "execution_count": 59,
     "metadata": {},
     "output_type": "execute_result"
    }
   ],
   "source": [
    "lst1.append([\"John\", 101]) #append nested list\n",
    "lst1"
   ]
  },
  {
   "cell_type": "markdown",
   "id": "a132b6cf",
   "metadata": {},
   "source": [
    "# Insert"
   ]
  },
  {
   "cell_type": "code",
   "execution_count": 60,
   "id": "32bbedaa",
   "metadata": {},
   "outputs": [],
   "source": [
    "# insert in specific order\n",
    "\n",
    "lst1.insert(2, 'Vankawala')\n"
   ]
  },
  {
   "cell_type": "code",
   "execution_count": 61,
   "id": "db46f143",
   "metadata": {},
   "outputs": [
    {
     "data": {
      "text/plain": [
       "['Maths',\n",
       " 'Chem',\n",
       " 'Vankawala',\n",
       " 200,\n",
       " 300,\n",
       " 301.1,\n",
       " 'Heer',\n",
       " ['John', 101],\n",
       " ['John', 101],\n",
       " ['John', 101]]"
      ]
     },
     "execution_count": 61,
     "metadata": {},
     "output_type": "execute_result"
    }
   ],
   "source": [
    "lst1"
   ]
  },
  {
   "cell_type": "code",
   "execution_count": 67,
   "id": "08fa271c",
   "metadata": {},
   "outputs": [
    {
     "data": {
      "text/plain": [
       "['Maths',\n",
       " 'Chem',\n",
       " 'Heer',\n",
       " 'Heer',\n",
       " 'Vankawala',\n",
       " 200,\n",
       " 300,\n",
       " 301.1,\n",
       " 'Heer',\n",
       " ['John', 101],\n",
       " ['John', 101],\n",
       " ['John', 101]]"
      ]
     },
     "execution_count": 67,
     "metadata": {},
     "output_type": "execute_result"
    }
   ],
   "source": [
    "lst1.insert(2, 'Heer')\n",
    "lst1"
   ]
  },
  {
   "cell_type": "markdown",
   "id": "f98b4ffc",
   "metadata": {},
   "source": [
    "# Extend Method"
   ]
  },
  {
   "cell_type": "code",
   "execution_count": 63,
   "id": "b8f52a4a",
   "metadata": {},
   "outputs": [],
   "source": [
    "lst2 = [1,2,3,[4,5]]"
   ]
  },
  {
   "cell_type": "code",
   "execution_count": 66,
   "id": "6d543676",
   "metadata": {},
   "outputs": [
    {
     "data": {
      "text/plain": [
       "[1, 2, 3, [4, 5], 6, 7]"
      ]
     },
     "execution_count": 66,
     "metadata": {},
     "output_type": "execute_result"
    }
   ],
   "source": [
    "lst2"
   ]
  },
  {
   "cell_type": "code",
   "execution_count": 68,
   "id": "91e7da2c",
   "metadata": {},
   "outputs": [
    {
     "data": {
      "text/plain": [
       "[1, 2, 3, [4, 5], 6, 7, 8, 9]"
      ]
     },
     "execution_count": 68,
     "metadata": {},
     "output_type": "execute_result"
    }
   ],
   "source": [
    "lst2.extend([8,9]) # added as a seperate elements instead of nestead list\n",
    "lst2"
   ]
  },
  {
   "cell_type": "markdown",
   "id": "83202ee9",
   "metadata": {},
   "source": [
    "# Various operation that we can perform in list"
   ]
  },
  {
   "cell_type": "code",
   "execution_count": 91,
   "id": "24838bc0",
   "metadata": {},
   "outputs": [
    {
     "data": {
      "text/plain": [
       "[1, 2, 3, 4, 5]"
      ]
     },
     "execution_count": 91,
     "metadata": {},
     "output_type": "execute_result"
    }
   ],
   "source": [
    "lst3 = [1,2,3,4,5]\n",
    "lst3"
   ]
  },
  {
   "cell_type": "code",
   "execution_count": 92,
   "id": "35064c47",
   "metadata": {},
   "outputs": [
    {
     "data": {
      "text/plain": [
       "15"
      ]
     },
     "execution_count": 92,
     "metadata": {},
     "output_type": "execute_result"
    }
   ],
   "source": [
    "sum(lst3)"
   ]
  },
  {
   "cell_type": "code",
   "execution_count": 93,
   "id": "1b532c7b",
   "metadata": {},
   "outputs": [
    {
     "data": {
      "text/plain": [
       "[1, 2, 3, 4, 5, 1, 2, 3, 4, 5, 1, 2, 3, 4, 5]"
      ]
     },
     "execution_count": 93,
     "metadata": {},
     "output_type": "execute_result"
    }
   ],
   "source": [
    "lst3*3 #it will append whole list multiply by 3, print 3 times"
   ]
  },
  {
   "cell_type": "markdown",
   "id": "75019ad7",
   "metadata": {},
   "source": [
    "# Pop method"
   ]
  },
  {
   "cell_type": "code",
   "execution_count": 71,
   "id": "311eb747",
   "metadata": {},
   "outputs": [
    {
     "data": {
      "text/plain": [
       "5"
      ]
     },
     "execution_count": 71,
     "metadata": {},
     "output_type": "execute_result"
    }
   ],
   "source": [
    "lst3.pop() #pickup element from specific index , if not given index then bydefault pickup or remove last element like stack"
   ]
  },
  {
   "cell_type": "code",
   "execution_count": 72,
   "id": "bcad82a9",
   "metadata": {},
   "outputs": [
    {
     "data": {
      "text/plain": [
       "[1, 2, 3, 4]"
      ]
     },
     "execution_count": 72,
     "metadata": {},
     "output_type": "execute_result"
    }
   ],
   "source": [
    "lst3"
   ]
  },
  {
   "cell_type": "code",
   "execution_count": 73,
   "id": "7e996e33",
   "metadata": {},
   "outputs": [
    {
     "data": {
      "text/plain": [
       "1"
      ]
     },
     "execution_count": 73,
     "metadata": {},
     "output_type": "execute_result"
    }
   ],
   "source": [
    "lst3.pop(0) # remove 1st element"
   ]
  },
  {
   "cell_type": "code",
   "execution_count": 74,
   "id": "3d147c30",
   "metadata": {},
   "outputs": [
    {
     "data": {
      "text/plain": [
       "[2, 3, 4]"
      ]
     },
     "execution_count": 74,
     "metadata": {},
     "output_type": "execute_result"
    }
   ],
   "source": [
    "lst3"
   ]
  },
  {
   "cell_type": "markdown",
   "id": "506e4943",
   "metadata": {},
   "source": [
    "# count()\n",
    "- Caculates total occurance of given element of list"
   ]
  },
  {
   "cell_type": "code",
   "execution_count": 22,
   "id": "7796e2e0",
   "metadata": {},
   "outputs": [
    {
     "data": {
      "text/plain": [
       "2"
      ]
     },
     "execution_count": 22,
     "metadata": {},
     "output_type": "execute_result"
    }
   ],
   "source": [
    "lst4 = [1,1,2,3,4,5]\n",
    "lst4.count(1)"
   ]
  },
  {
   "cell_type": "code",
   "execution_count": 81,
   "id": "97ba63cb",
   "metadata": {},
   "outputs": [
    {
     "data": {
      "text/plain": [
       "5"
      ]
     },
     "execution_count": 81,
     "metadata": {},
     "output_type": "execute_result"
    }
   ],
   "source": [
    "#len - calculates total length of a list\n",
    "len(lst4)"
   ]
  },
  {
   "cell_type": "code",
   "execution_count": 86,
   "id": "c17d9a91",
   "metadata": {},
   "outputs": [
    {
     "data": {
      "text/plain": [
       "0"
      ]
     },
     "execution_count": 86,
     "metadata": {},
     "output_type": "execute_result"
    }
   ],
   "source": [
    "# index - returns the index of first occurance, start and end index are not necessary parameters\n",
    "\n",
    "lst4.index(1,0,4) # value is 1 which will search from index 0 to 4"
   ]
  },
  {
   "cell_type": "code",
   "execution_count": 25,
   "id": "9882a4fc",
   "metadata": {},
   "outputs": [
    {
     "ename": "ValueError",
     "evalue": "4 is not in list",
     "output_type": "error",
     "traceback": [
      "\u001b[1;31m---------------------------------------------------------------------------\u001b[0m",
      "\u001b[1;31mValueError\u001b[0m                                Traceback (most recent call last)",
      "\u001b[1;32m~\\AppData\\Local\\Temp\\ipykernel_41900\\3584565743.py\u001b[0m in \u001b[0;36m<module>\u001b[1;34m\u001b[0m\n\u001b[1;32m----> 1\u001b[1;33m \u001b[0mlst4\u001b[0m\u001b[1;33m.\u001b[0m\u001b[0mindex\u001b[0m\u001b[1;33m(\u001b[0m\u001b[1;36m4\u001b[0m\u001b[1;33m,\u001b[0m\u001b[1;36m0\u001b[0m\u001b[1;33m,\u001b[0m\u001b[1;36m3\u001b[0m\u001b[1;33m)\u001b[0m\u001b[1;33m\u001b[0m\u001b[1;33m\u001b[0m\u001b[0m\n\u001b[0m",
      "\u001b[1;31mValueError\u001b[0m: 4 is not in list"
     ]
    }
   ],
   "source": [
    "lst4.index(4,0,3)"
   ]
  },
  {
   "cell_type": "code",
   "execution_count": 87,
   "id": "aba31daf",
   "metadata": {},
   "outputs": [
    {
     "data": {
      "text/plain": [
       "1"
      ]
     },
     "execution_count": 87,
     "metadata": {},
     "output_type": "execute_result"
    }
   ],
   "source": [
    "min(lst4)"
   ]
  },
  {
   "cell_type": "code",
   "execution_count": 88,
   "id": "4f98bacc",
   "metadata": {},
   "outputs": [
    {
     "data": {
      "text/plain": [
       "5"
      ]
     },
     "execution_count": 88,
     "metadata": {},
     "output_type": "execute_result"
    }
   ],
   "source": [
    "max(lst4)"
   ]
  }
 ],
 "metadata": {
  "kernelspec": {
   "display_name": "Python 3 (ipykernel)",
   "language": "python",
   "name": "python3"
  },
  "language_info": {
   "codemirror_mode": {
    "name": "ipython",
    "version": 3
   },
   "file_extension": ".py",
   "mimetype": "text/x-python",
   "name": "python",
   "nbconvert_exporter": "python",
   "pygments_lexer": "ipython3",
   "version": "3.9.13"
  }
 },
 "nbformat": 4,
 "nbformat_minor": 5
}
