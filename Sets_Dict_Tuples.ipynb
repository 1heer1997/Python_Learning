{
 "cells": [
  {
   "cell_type": "markdown",
   "id": "8a9f2c1a",
   "metadata": {},
   "source": [
    "# Sets\n",
    "- A set is an unordered collection data type that is iterable, mutable, and has no duplicate elements.Python's set class represents the mathematical motion of a set. This is based on a data structure known as a hash table."
   ]
  },
  {
   "cell_type": "code",
   "execution_count": 1,
   "id": "4e0993f0",
   "metadata": {},
   "outputs": [
    {
     "name": "stdout",
     "output_type": "stream",
     "text": [
      "set()\n",
      "<class 'set'>\n"
     ]
    }
   ],
   "source": [
    "## defining an empty set\n",
    "\n",
    "set_var = set()\n",
    "print(set_var)\n",
    "print(type(set_var))"
   ]
  },
  {
   "cell_type": "code",
   "execution_count": 2,
   "id": "395a02e2",
   "metadata": {},
   "outputs": [
    {
     "name": "stdout",
     "output_type": "stream",
     "text": [
      "{'Ironman', 'Avengers', 'Hitman'}\n"
     ]
    },
    {
     "data": {
      "text/plain": [
       "set"
      ]
     },
     "execution_count": 2,
     "metadata": {},
     "output_type": "execute_result"
    }
   ],
   "source": [
    "set_var = {\"Avengers\", \"Ironman\", 'Hitman'}\n",
    "print(set_var)\n",
    "type(set_var)"
   ]
  },
  {
   "cell_type": "code",
   "execution_count": 3,
   "id": "62d92c64",
   "metadata": {},
   "outputs": [
    {
     "data": {
      "text/plain": [
       "{1, 2, 3, 4}"
      ]
     },
     "execution_count": 3,
     "metadata": {},
     "output_type": "execute_result"
    }
   ],
   "source": [
    "set_var1 = {1,2,3,4,2,3} #removes duplicates\n",
    "set_var1"
   ]
  },
  {
   "cell_type": "code",
   "execution_count": 5,
   "id": "453a38c9",
   "metadata": {},
   "outputs": [
    {
     "ename": "TypeError",
     "evalue": "'set' object is not subscriptable",
     "output_type": "error",
     "traceback": [
      "\u001b[1;31m---------------------------------------------------------------------------\u001b[0m",
      "\u001b[1;31mTypeError\u001b[0m                                 Traceback (most recent call last)",
      "\u001b[1;32m~\\AppData\\Local\\Temp\\ipykernel_27960\\3141013080.py\u001b[0m in \u001b[0;36m<module>\u001b[1;34m\u001b[0m\n\u001b[0;32m      1\u001b[0m \u001b[1;31m#Indexing\u001b[0m\u001b[1;33m\u001b[0m\u001b[1;33m\u001b[0m\u001b[0m\n\u001b[0;32m      2\u001b[0m \u001b[1;33m\u001b[0m\u001b[0m\n\u001b[1;32m----> 3\u001b[1;33m \u001b[0mset_var\u001b[0m\u001b[1;33m[\u001b[0m\u001b[1;36m0\u001b[0m\u001b[1;33m]\u001b[0m\u001b[1;33m\u001b[0m\u001b[1;33m\u001b[0m\u001b[0m\n\u001b[0m",
      "\u001b[1;31mTypeError\u001b[0m: 'set' object is not subscriptable"
     ]
    }
   ],
   "source": [
    "#Indexing\n",
    "\n",
    "set_var[0] # does not support index\n"
   ]
  },
  {
   "cell_type": "code",
   "execution_count": 4,
   "id": "b7f2dded",
   "metadata": {},
   "outputs": [],
   "source": [
    "## Inbuilt functions in sets\n",
    "\n",
    "set_var.add(\"Hulk\")"
   ]
  },
  {
   "cell_type": "code",
   "execution_count": 6,
   "id": "d14fd90f",
   "metadata": {},
   "outputs": [
    {
     "name": "stdout",
     "output_type": "stream",
     "text": [
      "{'Ironman', 'Avengers', 'Hitman', 'Hulk'}\n"
     ]
    }
   ],
   "source": [
    "print(set_var)"
   ]
  },
  {
   "cell_type": "code",
   "execution_count": 2,
   "id": "5f9b70f8",
   "metadata": {},
   "outputs": [],
   "source": [
    "set1 = {\"Avengers\", \"Ironman\", 'Hitman'}\n",
    "set2 = {\"Avengers\", \"Ironman\", 'Hitman', 'Hulk2'}"
   ]
  },
  {
   "cell_type": "code",
   "execution_count": 12,
   "id": "cba56678",
   "metadata": {},
   "outputs": [
    {
     "data": {
      "text/plain": [
       "{'Avengers', 'Hitman', 'Ironman'}"
      ]
     },
     "execution_count": 12,
     "metadata": {},
     "output_type": "execute_result"
    }
   ],
   "source": [
    "set2.intersection(set1)"
   ]
  },
  {
   "cell_type": "code",
   "execution_count": 15,
   "id": "743da756",
   "metadata": {},
   "outputs": [
    {
     "data": {
      "text/plain": [
       "{'Avengers', 'Hitman', 'Ironman'}"
      ]
     },
     "execution_count": 15,
     "metadata": {},
     "output_type": "execute_result"
    }
   ],
   "source": [
    "set2.intersection_update(set1) # this is to update the intersection changes in set2 which means Hulk2 got removed\n",
    "set2"
   ]
  },
  {
   "cell_type": "code",
   "execution_count": 17,
   "id": "59b647f3",
   "metadata": {},
   "outputs": [
    {
     "data": {
      "text/plain": [
       "{'Avengers', 'Hitman', 'Hulk2', 'Ironman'}"
      ]
     },
     "execution_count": 17,
     "metadata": {},
     "output_type": "execute_result"
    }
   ],
   "source": [
    "set2.add(\"Hulk2\")\n",
    "set2"
   ]
  },
  {
   "cell_type": "code",
   "execution_count": 19,
   "id": "57fb431b",
   "metadata": {},
   "outputs": [
    {
     "data": {
      "text/plain": [
       "{'Hulk2'}"
      ]
     },
     "execution_count": 19,
     "metadata": {},
     "output_type": "execute_result"
    }
   ],
   "source": [
    "# difference - from set 2 removing all elemnents which are common in set 1\n",
    "\n",
    "set2.difference(set1)"
   ]
  },
  {
   "cell_type": "code",
   "execution_count": 20,
   "id": "7fd7815c",
   "metadata": {},
   "outputs": [
    {
     "data": {
      "text/plain": [
       "{'Avengers', 'Hitman', 'Hulk2', 'Ironman'}"
      ]
     },
     "execution_count": 20,
     "metadata": {},
     "output_type": "execute_result"
    }
   ],
   "source": [
    "set2 # after getting difference , not updated on set - all elements present in set2"
   ]
  },
  {
   "cell_type": "code",
   "execution_count": 21,
   "id": "1399643a",
   "metadata": {},
   "outputs": [],
   "source": [
    "# Difference_update , basically after taking difference on sets it will update values in set\n",
    "\n",
    "set2.difference_update(set1) # remove common elements"
   ]
  },
  {
   "cell_type": "code",
   "execution_count": 22,
   "id": "285faa18",
   "metadata": {},
   "outputs": [
    {
     "name": "stdout",
     "output_type": "stream",
     "text": [
      "{'Hulk2'}\n"
     ]
    }
   ],
   "source": [
    "print(set2)"
   ]
  },
  {
   "cell_type": "markdown",
   "id": "daee2690",
   "metadata": {},
   "source": [
    "# Dictionaries\n",
    "- A Dictionary is a collection which is unordered, changable and indexed. In python dictionaries are written with curly brackets , and they have keys and values."
   ]
  },
  {
   "cell_type": "code",
   "execution_count": 21,
   "id": "09a92043",
   "metadata": {},
   "outputs": [
    {
     "data": {
      "text/plain": [
       "dict"
      ]
     },
     "execution_count": 21,
     "metadata": {},
     "output_type": "execute_result"
    }
   ],
   "source": [
    "dic = {}\n",
    "type(dic)"
   ]
  },
  {
   "cell_type": "code",
   "execution_count": 25,
   "id": "873717cc",
   "metadata": {},
   "outputs": [
    {
     "data": {
      "text/plain": [
       "dict"
      ]
     },
     "execution_count": 25,
     "metadata": {},
     "output_type": "execute_result"
    }
   ],
   "source": [
    "# inbuilt function dict()\n",
    "\n",
    "type(dict())"
   ]
  },
  {
   "cell_type": "code",
   "execution_count": 23,
   "id": "c6c590a8",
   "metadata": {},
   "outputs": [
    {
     "data": {
      "text/plain": [
       "set"
      ]
     },
     "execution_count": 23,
     "metadata": {},
     "output_type": "execute_result"
    }
   ],
   "source": [
    "dic = {1,2,3,4,5} # in dic we can not add values like this we need to add key value pair\n",
    "type(dic)"
   ]
  },
  {
   "cell_type": "code",
   "execution_count": 24,
   "id": "debcdcc7",
   "metadata": {},
   "outputs": [
    {
     "data": {
      "text/plain": [
       "dict"
      ]
     },
     "execution_count": 24,
     "metadata": {},
     "output_type": "execute_result"
    }
   ],
   "source": [
    "## Let create a dictionary\n",
    "\n",
    "my_dict = {\"Car1\" : \"Audi\", \"Car2\" : \"BMW\", \"Car3\" : \"Mercedies Benz\"}\n",
    "type(my_dict)"
   ]
  },
  {
   "cell_type": "code",
   "execution_count": 26,
   "id": "127e996a",
   "metadata": {},
   "outputs": [
    {
     "data": {
      "text/plain": [
       "'Audi'"
      ]
     },
     "execution_count": 26,
     "metadata": {},
     "output_type": "execute_result"
    }
   ],
   "source": [
    "## Access the item value based on keys\n",
    "\n",
    "my_dict['Car1']"
   ]
  },
  {
   "cell_type": "code",
   "execution_count": 27,
   "id": "7914b2b2",
   "metadata": {},
   "outputs": [
    {
     "name": "stdout",
     "output_type": "stream",
     "text": [
      "Car1\n",
      "Car2\n",
      "Car3\n"
     ]
    }
   ],
   "source": [
    "# We can even loop through the dictionaries keys\n",
    "\n",
    "for x in my_dict:\n",
    "    print(x)"
   ]
  },
  {
   "cell_type": "code",
   "execution_count": 28,
   "id": "72f471b7",
   "metadata": {},
   "outputs": [
    {
     "name": "stdout",
     "output_type": "stream",
     "text": [
      "Audi\n",
      "BMW\n",
      "Mercedies Benz\n"
     ]
    }
   ],
   "source": [
    "# We can even loop through the dictionaries values\n",
    "\n",
    "for x in my_dict.values():\n",
    "    print(x)"
   ]
  },
  {
   "cell_type": "code",
   "execution_count": 29,
   "id": "ce4e9df1",
   "metadata": {},
   "outputs": [
    {
     "name": "stdout",
     "output_type": "stream",
     "text": [
      "('Car1', 'Audi')\n",
      "('Car2', 'BMW')\n",
      "('Car3', 'Mercedies Benz')\n"
     ]
    }
   ],
   "source": [
    "# We can also check both keys and values\n",
    "\n",
    "for x in my_dict.items():\n",
    "    print(x)"
   ]
  },
  {
   "cell_type": "code",
   "execution_count": 30,
   "id": "c13affed",
   "metadata": {},
   "outputs": [
    {
     "data": {
      "text/plain": [
       "{'Car1': 'Audi', 'Car2': 'BMW', 'Car3': 'Mercedies Benz', 'Car4': 'Audi 2.0'}"
      ]
     },
     "execution_count": 30,
     "metadata": {},
     "output_type": "execute_result"
    }
   ],
   "source": [
    "## Adding items in dictionaries\n",
    "\n",
    "my_dict['Car4'] = 'Audi 2.0'\n",
    "my_dict"
   ]
  },
  {
   "cell_type": "code",
   "execution_count": 31,
   "id": "b029556e",
   "metadata": {},
   "outputs": [
    {
     "data": {
      "text/plain": [
       "{'Car1': 'Maruti', 'Car2': 'BMW', 'Car3': 'Mercedies Benz', 'Car4': 'Audi 2.0'}"
      ]
     },
     "execution_count": 31,
     "metadata": {},
     "output_type": "execute_result"
    }
   ],
   "source": [
    "my_dict['Car1'] = 'Maruti' # car1 key value gets replaced by new one\n",
    "my_dict"
   ]
  },
  {
   "cell_type": "markdown",
   "id": "d8eb105a",
   "metadata": {},
   "source": [
    "# Nested Dictionary"
   ]
  },
  {
   "cell_type": "code",
   "execution_count": 32,
   "id": "96c884e0",
   "metadata": {},
   "outputs": [
    {
     "name": "stdout",
     "output_type": "stream",
     "text": [
      "{'car1': {'Mercedies': 1960}, 'car2': {'Audi': 1970}, 'car3': {'Ambassador': 1980}}\n"
     ]
    }
   ],
   "source": [
    "car1_model = {'Mercedies': 1960}\n",
    "car2_model = {'Audi' : 1970}\n",
    "car3_model = {'Ambassador': 1980}\n",
    "\n",
    "car_type = {'car1':car1_model, 'car2':car2_model, 'car3':car3_model}\n",
    "print(car_type)"
   ]
  },
  {
   "cell_type": "code",
   "execution_count": 33,
   "id": "3a75c6cf",
   "metadata": {},
   "outputs": [
    {
     "name": "stdout",
     "output_type": "stream",
     "text": [
      "{'Mercedies': 1960}\n"
     ]
    }
   ],
   "source": [
    "## Accessing the items in the dictionary\n",
    "\n",
    "print(car_type['car1'])"
   ]
  },
  {
   "cell_type": "code",
   "execution_count": 34,
   "id": "0fe4b10f",
   "metadata": {},
   "outputs": [
    {
     "name": "stdout",
     "output_type": "stream",
     "text": [
      "1960\n"
     ]
    }
   ],
   "source": [
    "print(car_type['car1']['Mercedies'])"
   ]
  },
  {
   "cell_type": "markdown",
   "id": "ed79d413",
   "metadata": {},
   "source": [
    "# Tuples"
   ]
  },
  {
   "cell_type": "code",
   "execution_count": 35,
   "id": "8aa49cee",
   "metadata": {},
   "outputs": [
    {
     "data": {
      "text/plain": [
       "tuple"
      ]
     },
     "execution_count": 35,
     "metadata": {},
     "output_type": "execute_result"
    }
   ],
   "source": [
    "## Create an empty tuple - once defined tuples then you can't change an element in tuple\n",
    "\n",
    "my_tuple=tuple()\n",
    "type(my_tuple)"
   ]
  },
  {
   "cell_type": "code",
   "execution_count": 36,
   "id": "743a5d26",
   "metadata": {},
   "outputs": [
    {
     "data": {
      "text/plain": [
       "tuple"
      ]
     },
     "execution_count": 36,
     "metadata": {},
     "output_type": "execute_result"
    }
   ],
   "source": [
    "my_tuple = ()\n",
    "type(my_tuple)"
   ]
  },
  {
   "cell_type": "code",
   "execution_count": 24,
   "id": "ade01ee4",
   "metadata": {},
   "outputs": [
    {
     "data": {
      "text/plain": [
       "'Heer'"
      ]
     },
     "execution_count": 24,
     "metadata": {},
     "output_type": "execute_result"
    }
   ],
   "source": [
    "my_tuple=(\"Heer\", \"Ankur\", \"Kush\") # elements won't get replaced but whole tuple can be changed\n",
    "my_tuple[0]"
   ]
  },
  {
   "cell_type": "code",
   "execution_count": 38,
   "id": "9f45a4f8",
   "metadata": {},
   "outputs": [
    {
     "name": "stdout",
     "output_type": "stream",
     "text": [
      "<class 'tuple'>\n",
      "('Heer', 'Ankur', 'Sid')\n"
     ]
    }
   ],
   "source": [
    "print(type(my_tuple))\n",
    "print(my_tuple)"
   ]
  },
  {
   "cell_type": "code",
   "execution_count": 39,
   "id": "cb166817",
   "metadata": {},
   "outputs": [
    {
     "data": {
      "text/plain": [
       "1"
      ]
     },
     "execution_count": 39,
     "metadata": {},
     "output_type": "execute_result"
    }
   ],
   "source": [
    "## Inbuilt function\n",
    "\n",
    "my_tuple.count('Heer')"
   ]
  },
  {
   "cell_type": "code",
   "execution_count": 40,
   "id": "d17e641c",
   "metadata": {},
   "outputs": [
    {
     "name": "stdout",
     "output_type": "stream",
     "text": [
      "('Hello', 'World')\n"
     ]
    }
   ],
   "source": [
    "my_tuple = ('Hello', 'World')\n",
    "print(my_tuple)"
   ]
  },
  {
   "cell_type": "code",
   "execution_count": 43,
   "id": "f0e5d308",
   "metadata": {},
   "outputs": [],
   "source": [
    "my_tuple=(\"Heer\", \"Ankur\", \"Sid\",\"Heer\")"
   ]
  },
  {
   "cell_type": "code",
   "execution_count": 44,
   "id": "450e4ced",
   "metadata": {},
   "outputs": [
    {
     "data": {
      "text/plain": [
       "2"
      ]
     },
     "execution_count": 44,
     "metadata": {},
     "output_type": "execute_result"
    }
   ],
   "source": [
    "my_tuple.count('Heer')"
   ]
  },
  {
   "cell_type": "code",
   "execution_count": 46,
   "id": "78bf5b29",
   "metadata": {},
   "outputs": [
    {
     "data": {
      "text/plain": [
       "0"
      ]
     },
     "execution_count": 46,
     "metadata": {},
     "output_type": "execute_result"
    }
   ],
   "source": [
    "my_tuple.index('Heer') #Gives index of 1st occurance"
   ]
  },
  {
   "cell_type": "code",
   "execution_count": 47,
   "id": "7ca1c5df",
   "metadata": {},
   "outputs": [
    {
     "data": {
      "text/plain": [
       "2"
      ]
     },
     "execution_count": 47,
     "metadata": {},
     "output_type": "execute_result"
    }
   ],
   "source": [
    "my_tuple.index('Sid')"
   ]
  },
  {
   "cell_type": "code",
   "execution_count": null,
   "id": "413dbcd8",
   "metadata": {},
   "outputs": [],
   "source": []
  }
 ],
 "metadata": {
  "kernelspec": {
   "display_name": "Python 3 (ipykernel)",
   "language": "python",
   "name": "python3"
  },
  "language_info": {
   "codemirror_mode": {
    "name": "ipython",
    "version": 3
   },
   "file_extension": ".py",
   "mimetype": "text/x-python",
   "name": "python",
   "nbconvert_exporter": "python",
   "pygments_lexer": "ipython3",
   "version": "3.9.13"
  }
 },
 "nbformat": 4,
 "nbformat_minor": 5
}
